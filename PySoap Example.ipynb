{
 "cells": [
  {
   "cell_type": "code",
   "execution_count": 2,
   "metadata": {},
   "outputs": [
    {
     "name": "stderr",
     "output_type": "stream",
     "text": [
      "Using TensorFlow backend.\n"
     ]
    }
   ],
   "source": [
    "import numpy as np\n",
    "import matplotlib.pyplot as plt\n",
    "\n",
    "import keras  # Note: keras is not needed for PySoap to work\n",
    "\n",
    "import PySoap"
   ]
  },
  {
   "cell_type": "code",
   "execution_count": 3,
   "metadata": {},
   "outputs": [],
   "source": [
    "(x_train, y_train), (x_test, y_test) = keras.datasets.mnist.load_data()\n",
    "\n",
    "x_train = x_train.reshape(*x_train.shape, 1)/255\n",
    "x_test = x_test.reshape(*x_test.shape, 1)/255\n",
    "\n",
    "labels = np.eye(10)\n",
    "y_train = labels[y_train]\n",
    "y_test = labels[y_test]"
   ]
  },
  {
   "cell_type": "markdown",
   "metadata": {},
   "source": [
    "# Simple Fully Connected with Batch Norm"
   ]
  },
  {
   "cell_type": "code",
   "execution_count": 6,
   "metadata": {},
   "outputs": [],
   "source": [
    "model = PySoap.Sequential()\n",
    "\n",
    "model.add( PySoap.layers.Input((28, 28, 1)) )\n",
    "model.add( PySoap.layers.Push_Forward(activation_function='relu') )\n",
    "model.add( PySoap.layers.Flatten() )\n",
    "model.add( PySoap.layers.Dense(100, activation_function='relu') )\n",
    "model.add( PySoap.layers.BatchNorm() )\n",
    "model.add( PySoap.layers.Dense(10, activation_function='softmax') )\n",
    "\n",
    "# optimizer = PySoap.optimizers.SGD(learning_rate=0.01, momentum=0.001)\n",
    "model.build(loss_function='cross_entropy', optimizer=\"rmsprop\", metrics = 'accuracy')"
   ]
  },
  {
   "cell_type": "code",
   "execution_count": 7,
   "metadata": {},
   "outputs": [
    {
     "name": "stdout",
     "output_type": "stream",
     "text": [
      "Input           :    Input Shape  (None, 28, 28, 1)\n",
      "Push Forward    :    Output Shape (None, 28, 28, 1)\n",
      "Flatten         :    Output Shape (None, 784)\n",
      "Dense (100,)    :    Output Shape (None, 100)\n",
      "Batch Norm      :    Output Shape (None, 100)\n",
      "Dense (10,)     :    Output Shape (None, 10)\n"
     ]
    }
   ],
   "source": [
    "model.summary()"
   ]
  },
  {
   "cell_type": "code",
   "execution_count": 8,
   "metadata": {},
   "outputs": [
    {
     "name": "stdout",
     "output_type": "stream",
     "text": [
      "Training on 60000 samples\n",
      "Epoch 1/2\n",
      "cross_entropy: 0.2326 - accuracy: 0.9219\n",
      "Training on 60000 samples\n",
      "Epoch 2/2\n",
      "cross_entropy: 0.2478 - accuracy: 0.9062\n",
      "CPU times: user 11.7 s, sys: 282 ms, total: 12 s\n",
      "Wall time: 3.15 s\n"
     ]
    }
   ],
   "source": [
    "%%time\n",
    "model.train(x_train, y_train, epochs=2, batch_size=128, verbose=True)"
   ]
  },
  {
   "cell_type": "code",
   "execution_count": 9,
   "metadata": {},
   "outputs": [
    {
     "data": {
      "text/plain": [
       "'cross_entropy: 0.1971 - accuracy: 0.9454'"
      ]
     },
     "execution_count": 9,
     "metadata": {},
     "output_type": "execute_result"
    }
   ],
   "source": [
    "model.evaluate(x_test, y_test)"
   ]
  },
  {
   "cell_type": "code",
   "execution_count": 14,
   "metadata": {},
   "outputs": [],
   "source": [
    "# Saving Model\n",
    "# model.save_model('model.hdf5')"
   ]
  },
  {
   "cell_type": "markdown",
   "metadata": {},
   "source": [
    "# Convolutional Neural Network"
   ]
  },
  {
   "cell_type": "code",
   "execution_count": 10,
   "metadata": {},
   "outputs": [],
   "source": [
    "model = PySoap.Sequential()\n",
    "\n",
    "model.add( PySoap.layers.Input((28, 28, 1)) )\n",
    "model.add( PySoap.layers.Conv_2D(filter_num=3, filter_spatial_shape=(4, 4), stride=1, \n",
    "                                 activation_function='relu') )\n",
    "model.add( PySoap.layers.Flatten() )\n",
    "model.add( PySoap.layers.Dense(100, activation_function='relu') )\n",
    "model.add( PySoap.layers.BatchNorm() )\n",
    "model.add( PySoap.layers.Dense(10, activation_function='softmax') )\n",
    "\n",
    "optimizer = PySoap.optimizers.Adam()\n",
    "model.build(loss_function='cross_entropy', optimizer=optimizer, metrics = 'accuracy')"
   ]
  },
  {
   "cell_type": "code",
   "execution_count": 11,
   "metadata": {},
   "outputs": [
    {
     "name": "stdout",
     "output_type": "stream",
     "text": [
      "Input                 :    Input Shape  (None, 28, 28, 1)\n",
      "Conv 2D 3 x (4, 4)    :    Output Shape (None, 25, 25, 3)\n",
      "Flatten               :    Output Shape (None, 1875)\n",
      "Dense (100,)          :    Output Shape (None, 100)\n",
      "Batch Norm            :    Output Shape (None, 100)\n",
      "Dense (10,)           :    Output Shape (None, 10)\n"
     ]
    }
   ],
   "source": [
    "model.summary()"
   ]
  },
  {
   "cell_type": "code",
   "execution_count": 12,
   "metadata": {},
   "outputs": [
    {
     "name": "stdout",
     "output_type": "stream",
     "text": [
      "Training on 60000 samples\n",
      "Epoch 1/2\n",
      "cross_entropy: 0.4097 - accuracy: 0.8672\n",
      "Training on 60000 samples\n",
      "Epoch 2/2\n",
      "cross_entropy: 0.2531 - accuracy: 0.9297\n",
      "CPU times: user 50 s, sys: 4.5 s, total: 54.5 s\n",
      "Wall time: 14.1 s\n"
     ]
    }
   ],
   "source": [
    "%%time\n",
    "model.train(x_train, y_train, epochs=2, batch_size=128, verbose=True)"
   ]
  },
  {
   "cell_type": "code",
   "execution_count": 13,
   "metadata": {},
   "outputs": [
    {
     "data": {
      "text/plain": [
       "'cross_entropy: 0.3542 - accuracy: 0.8818'"
      ]
     },
     "execution_count": 13,
     "metadata": {},
     "output_type": "execute_result"
    }
   ],
   "source": [
    "model.evaluate(x_test, y_test)"
   ]
  },
  {
   "cell_type": "code",
   "execution_count": null,
   "metadata": {},
   "outputs": [],
   "source": []
  }
 ],
 "metadata": {
  "kernelspec": {
   "display_name": "Python 3",
   "language": "python",
   "name": "python3"
  },
  "language_info": {
   "codemirror_mode": {
    "name": "ipython",
    "version": 3
   },
   "file_extension": ".py",
   "mimetype": "text/x-python",
   "name": "python",
   "nbconvert_exporter": "python",
   "pygments_lexer": "ipython3",
   "version": "3.7.6"
  }
 },
 "nbformat": 4,
 "nbformat_minor": 4
}
